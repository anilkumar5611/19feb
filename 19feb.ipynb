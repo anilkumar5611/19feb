{
 "cells": [
  {
   "cell_type": "code",
   "execution_count": null,
   "id": "6ad20860",
   "metadata": {},
   "outputs": [],
   "source": [
    "Q1. What is Flask Framework? What are the advantages of Flask Framework?\n",
    "Flask Framework:\n",
    "Flask is a lightweight and extensible web framework for Python. It is designed to be simple and easy to use, providing the essentials for building web applications without imposing too much structure. Flask follows the WSGI (Web Server Gateway Interface) standard and is known for its flexibility and minimalistic design.\n",
    "\n",
    "Advantages of Flask Framework:\n",
    "\n",
    "Simplicity: Flask follows a simple and intuitive design, making it easy for developers to learn and use.\n",
    "\n",
    "Flexibility: Flask gives developers the flexibility to choose the components and libraries they need for their specific application, rather than providing a rigid structure.\n",
    "\n",
    "Jinja2 Templating: Flask uses the Jinja2 templating engine, allowing for the creation of dynamic and data-driven web pages.\n",
    "\n",
    "Werkzeug Integration: Flask is built on the Werkzeug WSGI toolkit, providing essential functionalities for web development, such as request handling and routing.\n",
    "\n",
    "Extensibility: Flask can be easily extended using various third-party extensions to add features like database integration, authentication, and more.\n",
    "\n",
    "Active Community: Flask has a large and active community, ensuring ongoing support, documentation, and a wealth of resources for developers.\n",
    "\n"
   ]
  },
  {
   "cell_type": "markdown",
   "id": "9d1c9192",
   "metadata": {},
   "source": [
    "Q2. Create a simple Flask application to display ‘Hello World!!’. Attach the screenshot of the output in Jupyter Notebook.\n",
    "python\n"
   ]
  },
  {
   "cell_type": "code",
   "execution_count": null,
   "id": "eaa99cb4",
   "metadata": {},
   "outputs": [
    {
     "name": "stdout",
     "output_type": "stream",
     "text": [
      " * Serving Flask app '__main__'\n",
      " * Debug mode: off\n"
     ]
    },
    {
     "name": "stderr",
     "output_type": "stream",
     "text": [
      "WARNING: This is a development server. Do not use it in a production deployment. Use a production WSGI server instead.\n",
      " * Running on http://127.0.0.1:5000\n",
      "Press CTRL+C to quit\n"
     ]
    }
   ],
   "source": [
    "from flask import Flask\n",
    "\n",
    "app = Flask(__name__)\n",
    "\n",
    "@app.route('/')\n",
    "def hello_world():\n",
    "    return 'Hello World!!'\n",
    "\n",
    "if __name__ == '__main__':\n",
    "    app.run()"
   ]
  },
  {
   "cell_type": "code",
   "execution_count": null,
   "id": "00805254",
   "metadata": {},
   "outputs": [],
   "source": [
    "Q3. What is App routing in Flask? Why do we use app routes?\n",
    "App Routing in Flask:\n",
    "App routing in Flask refers to the process of mapping URLs to specific functions in your application. This is achieved using decorators, where each route corresponds to a specific URL pattern, and the associated function is called when that URL is accessed.\n",
    "\n",
    "Why do we use app routes in Flask:\n",
    "\n",
    "URL Mapping: App routes define how URLs are mapped to functions within the Flask application, providing a clear structure for handling different requests.\n",
    "\n",
    "Modularity: Flask app routes promote a modular and organized approach to building web applications. Each route can be associated with a specific functionality or page.\n",
    "\n",
    "Request Handling: App routes determine which function should handle a particular type of HTTP request (e.g., GET, POST), facilitating the separation of concerns in the codebase.\n",
    "\n",
    "Dynamic URLs: Flask app routes support dynamic URLs, allowing for the inclusion of variables in the URL pattern. This enables the creation of flexible and parameterized routes.\n",
    "\n"
   ]
  },
  {
   "cell_type": "code",
   "execution_count": null,
   "id": "75b0d2f1",
   "metadata": {},
   "outputs": [],
   "source": [
    "#Q4. Create a “/welcome” route to display the welcome message “Welcome to ABC Corporation” and a “/” route to show the following details: Company Name: ABC Corporation Location: India Contact Detail: 999-999-9999\n",
    "\n",
    "from flask import Flask, render_template\n",
    "\n",
    "app = Flask(__name__)\n",
    "\n",
    "@app.route('/')\n",
    "def company_details():\n",
    "    details = {\n",
    "        'company_name': 'ABC Corporation',\n",
    "        'location': 'India',\n",
    "        'contact_detail': '999-999-9999'\n",
    "    }\n",
    "    return render_template('company_details.html', details=details)\n",
    "\n",
    "@app.route('/welcome')\n",
    "def welcome():\n",
    "    return 'Welcome to ABC Corporation'\n",
    "\n",
    "if __name__ == '__main__':\n",
    "    app.run()\n",
    "Create an HTML template named company_details.html with the following content:\n",
    "\n",
    "html\n",
    "Copy code\n",
    "<!DOCTYPE html>\n",
    "<html lang=\"en\">\n",
    "<head>\n",
    "    <meta charset=\"UTF-8\">\n",
    "    <meta name=\"viewport\" content=\"width=device-width, initial-scale=1.0\">\n",
    "    <title>Company Details</title>\n",
    "</head>\n",
    "<body>\n",
    "    <h1>Welcome to ABC Corporation</h1>\n",
    "    <h2>Company Details</h2>\n",
    "    <p><strong>Company Name:</strong> {{ details.company_name }}</p>\n",
    "    <p><strong>Location:</strong> {{ details.location }}</p>\n",
    "    <p><strong>Contact Detail:</strong> {{ details.contact_detail }}</p>\n",
    "</body>\n",
    "</html>\n",
    "\n"
   ]
  },
  {
   "cell_type": "code",
   "execution_count": null,
   "id": "f135f679",
   "metadata": {},
   "outputs": [],
   "source": [
    "#Q5. What function is used in Flask for URL Building? Write a Python code to demonstrate the working of the url_for() function.\n",
    "#In Flask, the url_for() function is used for URL building. It generates a URL for the specified endpoint (function) and can also include arguments for variable parts of the URL.\n",
    "\n",
    "from flask import Flask, url_for, render_template\n",
    "\n",
    "app = Flask(__name__)\n",
    "\n",
    "@app.route('/')\n",
    "def index():\n",
    "    return 'This is the index page.'\n",
    "\n",
    "@app.route('/user/<username>')\n",
    "def profile(username):\n",
    "    return f'Hello, {username}!'\n",
    "\n",
    "@app.route('/post/<int:post_id>')\n",
    "def show_post(post_id):\n",
    "    return f'Post {post_id}'\n",
    "\n",
    "@app.route('/url_example')\n",
    "def url_example():\n",
    "    # Using url_for to build URLs for the specified endpoints\n",
    "    index_url = url_for('index')\n",
    "    profile_url = url_for('profile', username='john_doe')\n",
    "    post_url = url_for('show_post', post_id=123)\n",
    "\n",
    "    return render_template('url_example.html', index_url=index_url, profile_url=profile_url, post_url=post_url)\n",
    "\n",
    "if __name__ == '__main__':\n",
    "    app.run()\n",
    "Create an HTML template named url_example.html with the following content:\n",
    "\n",
    "html\n",
    "Copy code\n",
    "<!DOCTYPE html>\n",
    "<html lang=\"en\">\n",
    "<head>\n",
    "    <meta charset=\"UTF-8\">\n",
    "    <meta name=\"viewport\" content=\"width=device-width, initial-scale=1.0\">\n",
    "    <title>URL Example</title>\n",
    "</head>\n",
    "<body>\n",
    "    <h1>URL Example</h1>\n",
    "    <p>Index URL: <a href=\"{{ index_url }}\">{{ index_url }}</a></p>\n",
    "    <p>Profile URL: <a href=\"{{ profile_url }}\">{{ profile_url }}</a></p>\n",
    "    <p>Post URL: <a href=\"{{ post_url }}\">{{ post_url }}</a></p>\n",
    "</body>\n",
    "</html>"
   ]
  },
  {
   "cell_type": "code",
   "execution_count": null,
   "id": "7d65c746",
   "metadata": {},
   "outputs": [],
   "source": []
  }
 ],
 "metadata": {
  "kernelspec": {
   "display_name": "Python 3 (ipykernel)",
   "language": "python",
   "name": "python3"
  },
  "language_info": {
   "codemirror_mode": {
    "name": "ipython",
    "version": 3
   },
   "file_extension": ".py",
   "mimetype": "text/x-python",
   "name": "python",
   "nbconvert_exporter": "python",
   "pygments_lexer": "ipython3",
   "version": "3.11.2"
  }
 },
 "nbformat": 4,
 "nbformat_minor": 5
}
